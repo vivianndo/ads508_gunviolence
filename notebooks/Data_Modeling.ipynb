{
 "cells": [
  {
   "cell_type": "markdown",
   "id": "39ea8077-3237-4556-9ad0-afac1f4470e4",
   "metadata": {},
   "source": [
    "## Import Libraries"
   ]
  },
  {
   "cell_type": "code",
   "execution_count": 201,
   "id": "eaa6032a-09dc-4b03-979e-76ce4be1eaa4",
   "metadata": {
    "tags": []
   },
   "outputs": [
    {
     "name": "stdout",
     "output_type": "stream",
     "text": [
      "\u001b[33mWARNING: The directory '/root/.cache/pip' or its parent directory is not owned or is not writable by the current user. The cache has been disabled. Check the permissions and owner of that directory. If executing pip with sudo, you should use sudo's -H flag.\u001b[0m\u001b[33m\n",
      "\u001b[0m\u001b[33mWARNING: Running pip as the 'root' user can result in broken permissions and conflicting behaviour with the system package manager. It is recommended to use a virtual environment instead: https://pip.pypa.io/warnings/venv\u001b[0m\u001b[33m\n",
      "\u001b[0m"
     ]
    }
   ],
   "source": [
    "import boto3\n",
    "import sagemaker\n",
    "import time\n",
    "import io\n",
    "from sklearn.neighbors import KNeighborsClassifier\n",
    "from time import gmtime, strftime\n",
    "from sklearn.model_selection import train_test_split\n",
    "from sklearn.model_selection import GridSearchCV\n",
    "from sklearn.neural_network import MLPClassifier\n",
    "from sklearn.metrics import confusion_matrix, classification_report, roc_curve, roc_auc_score, plot_confusion_matrix\n",
    "import pandas as pd\n",
    "import numpy as np\n",
    "!pip install --disable-pip-version-check -q PyAthena==2.1.0\n",
    "from pyathena import connect\n",
    "from tqdm import tqdm  \n",
    "from sklearn.metrics import accuracy_score"
   ]
  },
  {
   "cell_type": "markdown",
   "id": "70a983fb-8b23-4414-a0b0-c732025c39dd",
   "metadata": {},
   "source": [
    "## Setup SageMaker Boto3 Connection"
   ]
  },
  {
   "cell_type": "code",
   "execution_count": 175,
   "id": "4df9f3d3-a5fe-4990-9a07-03af2c28f3b9",
   "metadata": {
    "tags": []
   },
   "outputs": [],
   "source": [
    "region = boto3.Session().region_name\n",
    "session = boto3.session.Session()\n",
    "\n",
    "ec2 = boto3.Session().client(service_name=\"ec2\", region_name=region)\n",
    "sm = boto3.Session().client(service_name=\"sagemaker\", region_name=region)"
   ]
  },
  {
   "cell_type": "code",
   "execution_count": 176,
   "id": "fe81a7de-fc8a-4ed2-b4f0-6aa8bda96c4c",
   "metadata": {
    "tags": []
   },
   "outputs": [],
   "source": [
    "sagemaker_session = sagemaker.Session()\n",
    "role = sagemaker.get_execution_role()\n",
    "bucket = sagemaker_session.default_bucket()\n",
    "region = boto3.Session().region_name\n",
    "\n",
    "from botocore.config import Config\n",
    "\n",
    "config = Config(retries={\"max_attempts\": 10, \"mode\": \"adaptive\"})\n",
    "\n",
    "iam = boto3.client(\"iam\", config=config)"
   ]
  },
  {
   "cell_type": "code",
   "execution_count": 177,
   "id": "accbced0-49d3-45d6-b6ad-f7c4ec187755",
   "metadata": {
    "tags": []
   },
   "outputs": [
    {
     "name": "stdout",
     "output_type": "stream",
     "text": [
      "Role name: LabRole\n"
     ]
    }
   ],
   "source": [
    "role_name = role.split(\"/\")[-1]\n",
    "\n",
    "print(\"Role name: {}\".format(role_name))"
   ]
  },
  {
   "cell_type": "code",
   "execution_count": 178,
   "id": "1bf1a35d-ee36-4476-b429-d4e9bb144515",
   "metadata": {
    "tags": []
   },
   "outputs": [
    {
     "data": {
      "text/plain": [
       "'sagemaker-us-east-1-346023323361'"
      ]
     },
     "execution_count": 178,
     "metadata": {},
     "output_type": "execute_result"
    }
   ],
   "source": [
    "sess = sagemaker.Session()\n",
    "bucket = '{}'.format(bucket)\n",
    "role = sagemaker.get_execution_role()\n",
    "region = boto3.Session().region_name\n",
    "bucket"
   ]
  },
  {
   "cell_type": "code",
   "execution_count": 179,
   "id": "4dd63ed3-0962-4e30-91b9-32516573dd01",
   "metadata": {
    "tags": []
   },
   "outputs": [],
   "source": [
    "# Assign database name\n",
    "database_name = \"ads508\""
   ]
  },
  {
   "cell_type": "code",
   "execution_count": 180,
   "id": "3aab204d-0b15-49ed-9e56-0f48e06a2942",
   "metadata": {
    "tags": []
   },
   "outputs": [],
   "source": [
    "# Set S3 staging directory -- this is a temporary directory used for Athena queries\n",
    "s3_staging_dir = \"s3://{0}/athena/staging\".format(bucket)"
   ]
  },
  {
   "cell_type": "code",
   "execution_count": 181,
   "id": "03803e08-ae58-432b-97b1-5487c6a931c3",
   "metadata": {
    "tags": []
   },
   "outputs": [],
   "source": [
    "conn = connect(region_name=region, s3_staging_dir=s3_staging_dir)"
   ]
  },
  {
   "cell_type": "code",
   "execution_count": 182,
   "id": "35c123d4-7c06-4c0e-a8eb-58ecb0ee661f",
   "metadata": {
    "tags": []
   },
   "outputs": [
    {
     "data": {
      "text/html": [
       "<div>\n",
       "<style scoped>\n",
       "    .dataframe tbody tr th:only-of-type {\n",
       "        vertical-align: middle;\n",
       "    }\n",
       "\n",
       "    .dataframe tbody tr th {\n",
       "        vertical-align: top;\n",
       "    }\n",
       "\n",
       "    .dataframe thead th {\n",
       "        text-align: right;\n",
       "    }\n",
       "</style>\n",
       "<table border=\"1\" class=\"dataframe\">\n",
       "  <thead>\n",
       "    <tr style=\"text-align: right;\">\n",
       "      <th></th>\n",
       "    </tr>\n",
       "  </thead>\n",
       "  <tbody>\n",
       "  </tbody>\n",
       "</table>\n",
       "</div>"
      ],
      "text/plain": [
       "Empty DataFrame\n",
       "Columns: []\n",
       "Index: []"
      ]
     },
     "execution_count": 182,
     "metadata": {},
     "output_type": "execute_result"
    }
   ],
   "source": [
    "# Create new database 'ads508'\n",
    "statement = \"CREATE DATABASE IF NOT EXISTS {}\".format(database_name)\n",
    "create_db = pd.read_sql(statement, conn)\n",
    "create_db"
   ]
  },
  {
   "cell_type": "code",
   "execution_count": 183,
   "id": "a72aba22-8a5a-4e12-ab65-0b5827f5683d",
   "metadata": {
    "tags": []
   },
   "outputs": [
    {
     "data": {
      "text/html": [
       "<div>\n",
       "<style scoped>\n",
       "    .dataframe tbody tr th:only-of-type {\n",
       "        vertical-align: middle;\n",
       "    }\n",
       "\n",
       "    .dataframe tbody tr th {\n",
       "        vertical-align: top;\n",
       "    }\n",
       "\n",
       "    .dataframe thead th {\n",
       "        text-align: right;\n",
       "    }\n",
       "</style>\n",
       "<table border=\"1\" class=\"dataframe\">\n",
       "  <thead>\n",
       "    <tr style=\"text-align: right;\">\n",
       "      <th></th>\n",
       "      <th>database_name</th>\n",
       "    </tr>\n",
       "  </thead>\n",
       "  <tbody>\n",
       "    <tr>\n",
       "      <th>0</th>\n",
       "      <td>ads508</td>\n",
       "    </tr>\n",
       "    <tr>\n",
       "      <th>1</th>\n",
       "      <td>default</td>\n",
       "    </tr>\n",
       "  </tbody>\n",
       "</table>\n",
       "</div>"
      ],
      "text/plain": [
       "  database_name\n",
       "0        ads508\n",
       "1       default"
      ]
     },
     "execution_count": 183,
     "metadata": {},
     "output_type": "execute_result"
    }
   ],
   "source": [
    "# Verify database creation\n",
    "q = \"SHOW DATABASES\"\n",
    "db_show = pd.read_sql(q, conn)\n",
    "db_show"
   ]
  },
  {
   "cell_type": "code",
   "execution_count": 184,
   "id": "0807c6ce-9de7-470d-bb11-14cc83bee92d",
   "metadata": {
    "tags": []
   },
   "outputs": [
    {
     "name": "stdout",
     "output_type": "stream",
     "text": [
      "https://raw.githubusercontent.com/vivianndo/ads508_gunviolence/main/generated_data/data_for_modeling.csv\n"
     ]
    }
   ],
   "source": [
    "# Set Athena parameters\n",
    "database_name = \"ads508\"\n",
    "model_table_name_csv = \"modeling\"\n",
    "model_s3_path = \"s3://{}/modeling_data\".format(bucket)\n",
    "model_s3_path=\"s3://sagemaker-studio-458903497716-h2kl4ff3dz/modeling/data_for_modeling.csv\"\n",
    "model_s3_path =\"https://raw.githubusercontent.com/vivianndo/ads508_gunviolence/main/generated_data/data_for_modeling.csv\"\n",
    "print(model_s3_path)"
   ]
  },
  {
   "cell_type": "code",
   "execution_count": 185,
   "id": "3213323e-5c83-47d1-b964-217a10e1af7e",
   "metadata": {
    "tags": []
   },
   "outputs": [
    {
     "data": {
      "text/html": [
       "<div>\n",
       "<style scoped>\n",
       "    .dataframe tbody tr th:only-of-type {\n",
       "        vertical-align: middle;\n",
       "    }\n",
       "\n",
       "    .dataframe tbody tr th {\n",
       "        vertical-align: top;\n",
       "    }\n",
       "\n",
       "    .dataframe thead th {\n",
       "        text-align: right;\n",
       "    }\n",
       "</style>\n",
       "<table border=\"1\" class=\"dataframe\">\n",
       "  <thead>\n",
       "    <tr style=\"text-align: right;\">\n",
       "      <th></th>\n",
       "      <th>latitude</th>\n",
       "      <th>longitude</th>\n",
       "      <th>n_guns_involved</th>\n",
       "      <th>target_class</th>\n",
       "      <th>group_Democrat</th>\n",
       "      <th>suspect_age</th>\n",
       "      <th>ohe_drug</th>\n",
       "      <th>ohe_officer</th>\n",
       "      <th>ohe_gang</th>\n",
       "      <th>ohe_accident</th>\n",
       "      <th>...</th>\n",
       "      <th>suspect_age_group_Adult</th>\n",
       "      <th>suspect_age_group_Senior</th>\n",
       "      <th>region_East South Central</th>\n",
       "      <th>region_Middle Atlantic</th>\n",
       "      <th>region_Mountain</th>\n",
       "      <th>region_New England</th>\n",
       "      <th>region_Pacific</th>\n",
       "      <th>region_South Atlantic</th>\n",
       "      <th>region_West North Central</th>\n",
       "      <th>region_West South Central</th>\n",
       "    </tr>\n",
       "  </thead>\n",
       "  <tbody>\n",
       "    <tr>\n",
       "      <th>0</th>\n",
       "      <td>40.3467</td>\n",
       "      <td>-79.8559</td>\n",
       "      <td>1.0</td>\n",
       "      <td>1</td>\n",
       "      <td>1</td>\n",
       "      <td>Adult 18+</td>\n",
       "      <td>0</td>\n",
       "      <td>0</td>\n",
       "      <td>0</td>\n",
       "      <td>0</td>\n",
       "      <td>...</td>\n",
       "      <td>0</td>\n",
       "      <td>0</td>\n",
       "      <td>0</td>\n",
       "      <td>1</td>\n",
       "      <td>0</td>\n",
       "      <td>0</td>\n",
       "      <td>0</td>\n",
       "      <td>0</td>\n",
       "      <td>0</td>\n",
       "      <td>0</td>\n",
       "    </tr>\n",
       "    <tr>\n",
       "      <th>1</th>\n",
       "      <td>40.4555</td>\n",
       "      <td>-79.8970</td>\n",
       "      <td>1.0</td>\n",
       "      <td>1</td>\n",
       "      <td>1</td>\n",
       "      <td>NaN</td>\n",
       "      <td>0</td>\n",
       "      <td>0</td>\n",
       "      <td>0</td>\n",
       "      <td>1</td>\n",
       "      <td>...</td>\n",
       "      <td>0</td>\n",
       "      <td>0</td>\n",
       "      <td>0</td>\n",
       "      <td>1</td>\n",
       "      <td>0</td>\n",
       "      <td>0</td>\n",
       "      <td>0</td>\n",
       "      <td>0</td>\n",
       "      <td>0</td>\n",
       "      <td>0</td>\n",
       "    </tr>\n",
       "    <tr>\n",
       "      <th>2</th>\n",
       "      <td>33.9090</td>\n",
       "      <td>-118.3330</td>\n",
       "      <td>1.0</td>\n",
       "      <td>1</td>\n",
       "      <td>1</td>\n",
       "      <td>NaN</td>\n",
       "      <td>0</td>\n",
       "      <td>0</td>\n",
       "      <td>1</td>\n",
       "      <td>1</td>\n",
       "      <td>...</td>\n",
       "      <td>0</td>\n",
       "      <td>0</td>\n",
       "      <td>0</td>\n",
       "      <td>0</td>\n",
       "      <td>0</td>\n",
       "      <td>0</td>\n",
       "      <td>1</td>\n",
       "      <td>0</td>\n",
       "      <td>0</td>\n",
       "      <td>0</td>\n",
       "    </tr>\n",
       "    <tr>\n",
       "      <th>3</th>\n",
       "      <td>33.8447</td>\n",
       "      <td>-118.3070</td>\n",
       "      <td>1.0</td>\n",
       "      <td>1</td>\n",
       "      <td>1</td>\n",
       "      <td>Adult 18+</td>\n",
       "      <td>0</td>\n",
       "      <td>0</td>\n",
       "      <td>0</td>\n",
       "      <td>1</td>\n",
       "      <td>...</td>\n",
       "      <td>0</td>\n",
       "      <td>0</td>\n",
       "      <td>0</td>\n",
       "      <td>0</td>\n",
       "      <td>0</td>\n",
       "      <td>0</td>\n",
       "      <td>1</td>\n",
       "      <td>0</td>\n",
       "      <td>0</td>\n",
       "      <td>0</td>\n",
       "    </tr>\n",
       "    <tr>\n",
       "      <th>4</th>\n",
       "      <td>33.9454</td>\n",
       "      <td>-118.3990</td>\n",
       "      <td>1.0</td>\n",
       "      <td>1</td>\n",
       "      <td>1</td>\n",
       "      <td>NaN</td>\n",
       "      <td>0</td>\n",
       "      <td>0</td>\n",
       "      <td>0</td>\n",
       "      <td>1</td>\n",
       "      <td>...</td>\n",
       "      <td>0</td>\n",
       "      <td>0</td>\n",
       "      <td>0</td>\n",
       "      <td>0</td>\n",
       "      <td>0</td>\n",
       "      <td>0</td>\n",
       "      <td>1</td>\n",
       "      <td>0</td>\n",
       "      <td>0</td>\n",
       "      <td>0</td>\n",
       "    </tr>\n",
       "  </tbody>\n",
       "</table>\n",
       "<p>5 rows × 41 columns</p>\n",
       "</div>"
      ],
      "text/plain": [
       "   latitude  longitude  n_guns_involved  target_class  group_Democrat  \\\n",
       "0   40.3467   -79.8559              1.0             1               1   \n",
       "1   40.4555   -79.8970              1.0             1               1   \n",
       "2   33.9090  -118.3330              1.0             1               1   \n",
       "3   33.8447  -118.3070              1.0             1               1   \n",
       "4   33.9454  -118.3990              1.0             1               1   \n",
       "\n",
       "  suspect_age  ohe_drug  ohe_officer  ohe_gang  ohe_accident  ...  \\\n",
       "0   Adult 18+         0            0         0             0  ...   \n",
       "1         NaN         0            0         0             1  ...   \n",
       "2         NaN         0            0         1             1  ...   \n",
       "3   Adult 18+         0            0         0             1  ...   \n",
       "4         NaN         0            0         0             1  ...   \n",
       "\n",
       "   suspect_age_group_Adult  suspect_age_group_Senior  \\\n",
       "0                        0                         0   \n",
       "1                        0                         0   \n",
       "2                        0                         0   \n",
       "3                        0                         0   \n",
       "4                        0                         0   \n",
       "\n",
       "   region_East South Central  region_Middle Atlantic  region_Mountain  \\\n",
       "0                          0                       1                0   \n",
       "1                          0                       1                0   \n",
       "2                          0                       0                0   \n",
       "3                          0                       0                0   \n",
       "4                          0                       0                0   \n",
       "\n",
       "   region_New England  region_Pacific  region_South Atlantic  \\\n",
       "0                   0               0                      0   \n",
       "1                   0               0                      0   \n",
       "2                   0               1                      0   \n",
       "3                   0               1                      0   \n",
       "4                   0               1                      0   \n",
       "\n",
       "   region_West North Central  region_West South Central  \n",
       "0                          0                          0  \n",
       "1                          0                          0  \n",
       "2                          0                          0  \n",
       "3                          0                          0  \n",
       "4                          0                          0  \n",
       "\n",
       "[5 rows x 41 columns]"
      ]
     },
     "execution_count": 185,
     "metadata": {},
     "output_type": "execute_result"
    }
   ],
   "source": [
    "#df = pd.read_csv(\"{}/data_for_modeling.csv\".format(model_s3_path))\n",
    "#df = pd.read_csv(\"s3://sagemaker-studio-458903497716-h2kl4ff3dz/modeling/data_for_modeling.csv\")\n",
    "df = pd.read_csv(model_s3_path)\n",
    "df = df.drop(columns=['Unnamed: 0'])\n",
    "df.head()"
   ]
  },
  {
   "cell_type": "code",
   "execution_count": 186,
   "id": "2d61b744-9d52-4608-9d3a-4f43d2ba81b7",
   "metadata": {
    "tags": []
   },
   "outputs": [],
   "source": [
    "# statement = \"\"\"CREATE EXTERNAL TABLE IF NOT EXISTS {}.{}(\n",
    "#  latitude string,\n",
    "#  longitude string,\n",
    "#  n_guns_involved string,\n",
    "#  target_class string,\n",
    "#  group_Democrat string,\n",
    "#  suspect_age string,\n",
    "#  ohe_drug string,\n",
    "#  ohe_officer string,\n",
    "#  ohe_gang string,\n",
    "#  ohe_accident string,\n",
    "#  ohe_murder string,\n",
    "#  ohe_suicide string,\n",
    "#  ohe_arrest string,\n",
    "#  ohe_brandishing string,\n",
    "#  ohe_felon string,\n",
    "#  ohe_drive string,\n",
    "#  ohe_home_invasion string,\n",
    "#  ohe_stolen string,\n",
    "#  ohe_misc string,\n",
    "#  ohe_drugs string,\n",
    "#  ohe_car_jacking string,\n",
    "#  ohe_defensive string,\n",
    "#  ohe_robbery string,\n",
    "#  ohe_family string,\n",
    "#  ohe_institution string,\n",
    "#  ohe_child string,\n",
    "#  ohe_mass string,\n",
    "#  ohe_domestic string,\n",
    "#  suspect_age_group_Teen string,\n",
    "#  suspect_age_group_Young_Adult string,\n",
    "#  suspect_age_group_Mid-Adult string,\n",
    "#  suspect_age_group_Adult string,\n",
    "#  suspect_age_group_Senior string,\n",
    "#  region_East_South_Central string,\n",
    "#  region_Middle_Atlantic string,\n",
    "#  region_Mountain string,\n",
    "#  region_New_England string,\n",
    "#  region_Pacific string,\n",
    "#  region_South_Atlantic string,\n",
    "#  region_West_North_Central string,\n",
    "#  region_West_South_Central string\n",
    " \n",
    "# ) ROW FORMAT DELIMITED FIELDS TERMINATED BY ',' LINES TERMINATED BY '\\\\n' LOCATION '{}'\n",
    "# TBLPROPERTIES ('skip.header.line.count'='1')\"\"\".format(\n",
    "#     database_name, model_table_name_csv, model_s3_path\n",
    "# )\n",
    "\n",
    "# create_table = pd.read_sql(statement, conn)\n",
    "# create_table"
   ]
  },
  {
   "cell_type": "code",
   "execution_count": 187,
   "id": "eb4fa96a-479e-4ebd-a053-a8e22522f9b7",
   "metadata": {
    "tags": []
   },
   "outputs": [],
   "source": [
    "# drop all rows containing nan\n",
    "df_knn = df.dropna()"
   ]
  },
  {
   "cell_type": "markdown",
   "id": "e3de7ec3-6f56-4867-a294-930c524f1ba5",
   "metadata": {},
   "source": [
    "### Splitting the train, test, and validation first so that when the balancing takes place next, the validation and test datasets are not affected."
   ]
  },
  {
   "cell_type": "code",
   "execution_count": 188,
   "id": "4f720209-0236-477b-824c-96065a6c9c95",
   "metadata": {
    "tags": []
   },
   "outputs": [],
   "source": [
    "from sklearn.model_selection import train_test_split\n",
    "\n",
    "# Splitting all data into 90% train and 10% holdout\n",
    "df_train, df_holdout = train_test_split(\n",
    "        df,\n",
    "        test_size=0.10,\n",
    "    stratify=df['target_class'])\n",
    "\n",
    "# Splitting holdout data into 50% validation and 50% test\n",
    "df_validation, df_test = train_test_split(\n",
    "        df_holdout,\n",
    "        test_size=0.50,\n",
    "        stratify=df_holdout['target_class'])"
   ]
  },
  {
   "cell_type": "markdown",
   "id": "7d1fc513-278a-4f37-ab33-15a437668ef0",
   "metadata": {},
   "source": [
    "### Creating files for each subsection of the data: train, test, and output"
   ]
  },
  {
   "cell_type": "code",
   "execution_count": 189,
   "id": "06321eb4-ce6d-4a98-a22a-b1c1b9ca4ad3",
   "metadata": {
    "tags": []
   },
   "outputs": [],
   "source": [
    "# specifying the output file path\n",
    "df_train_output = \"../generated_data/df_train.csv\"\n",
    "df_test_output = \"../generated_data/df_test.csv\"\n",
    "df_validation_output = \"../generated_data/df_validation.csv\"\n",
    "\n",
    "# saving the DataFrame to a CSV file\n",
    "df_train.to_csv(df_train_output, index=False)\n",
    "df_test.to_csv(df_test_output, index=False)\n",
    "df_validation.to_csv(df_validation_output, index=False)\n"
   ]
  },
  {
   "cell_type": "markdown",
   "id": "e93c146f-3729-4e2a-9b4f-a62fc7c4adaa",
   "metadata": {},
   "source": [
    "### Displaying the initial count of the target class variable in the training dataset.\n",
    "We find that the class of 1 - which indicates someone was either injured or killed - is the majority class."
   ]
  },
  {
   "cell_type": "code",
   "execution_count": 190,
   "id": "61c5855b-ce3d-4008-b736-b1f1f848ebae",
   "metadata": {
    "tags": []
   },
   "outputs": [
    {
     "name": "stdout",
     "output_type": "stream",
     "text": [
      "1    118401\n",
      "0     79910\n",
      "Name: target_class, dtype: int64\n"
     ]
    }
   ],
   "source": [
    "# count the number of 0s and 1s in the 'outcome' column\n",
    "value_counts = df_train['target_class'].value_counts()\n",
    "\n",
    "# print the results\n",
    "print(value_counts)"
   ]
  },
  {
   "cell_type": "markdown",
   "id": "1c8ffeab-4406-4be7-8f40-658be9253ac5",
   "metadata": {},
   "source": [
    "### Undersampling the majority target_class of '1' "
   ]
  },
  {
   "cell_type": "code",
   "execution_count": 191,
   "id": "a6cb507a-3613-4df7-93f6-89e946e3898d",
   "metadata": {
    "tags": []
   },
   "outputs": [],
   "source": [
    "df_grouped_by = df_train.groupby([\"target_class\"])\n",
    "df_balanced = df_grouped_by.apply(\n",
    "    lambda x: x.sample(df_grouped_by.size().min())\\\n",
    "    .reset_index(drop=True)\n",
    ")"
   ]
  },
  {
   "cell_type": "code",
   "execution_count": 192,
   "id": "a85ea71d-406b-4f79-ac67-cb54fd21cda3",
   "metadata": {
    "tags": []
   },
   "outputs": [
    {
     "name": "stdout",
     "output_type": "stream",
     "text": [
      "0    79910\n",
      "1    79910\n",
      "Name: target_class, dtype: int64\n"
     ]
    }
   ],
   "source": [
    "# showing the balanced value counts of the newly created dataframe\n",
    "value_counts_balanced = df_balanced['target_class'].value_counts()\n",
    "\n",
    "# print the results\n",
    "print(value_counts_balanced)"
   ]
  },
  {
   "cell_type": "markdown",
   "id": "e03d1b32-f9c7-4ef9-a4db-a3a327886b66",
   "metadata": {},
   "source": [
    "## Neural Network"
   ]
  },
  {
   "cell_type": "code",
   "execution_count": 193,
   "id": "bc544507-7d33-401a-a592-c1df0c88843b",
   "metadata": {
    "tags": []
   },
   "outputs": [],
   "source": [
    "# Splitting all data into 90% train and 10% holdout\n",
    "df_knn_train, df_knn_holdout = train_test_split(\n",
    "        df_knn,\n",
    "        test_size=0.10,\n",
    "    stratify=df_knn['target_class'])\n",
    "\n",
    "# Splitting holdout data into 50% validation and 50% test\n",
    "df_knn_validation, df_knn_test = train_test_split(\n",
    "        df_knn_holdout,\n",
    "        test_size=0.50,\n",
    "        stratify=df_knn_holdout['target_class'])\n",
    "\n",
    "df_knn_grouped_by = df_knn_train.groupby([\"target_class\"])\n",
    "df_knn_balanced = df_knn_grouped_by.apply(\n",
    "    lambda x: x.sample(df_knn_grouped_by.size().min())\\\n",
    "    .reset_index(drop=True)\n",
    ")"
   ]
  },
  {
   "cell_type": "code",
   "execution_count": 194,
   "id": "c45269c8-6bb2-4e4b-a390-118d14d6ded0",
   "metadata": {
    "tags": []
   },
   "outputs": [],
   "source": [
    "# Transfer Training Data to S3 bucket - exclude header and index\n",
    "s3_client = boto3.client(\"s3\")\n",
    "BUCKET='sagemaker-us-east-1-898900188658'\n",
    "BUCKET='sagemaker-us-east-1-346023323361'\n",
    "KEY='knn/train/train.csv'\n",
    "#response = s3_client.get_object(Bucket=BUCKET, Key=KEY)\n",
    "\n",
    "df_knn_y_train = df_knn_train['target_class']\n",
    "df_knn_features = df_knn_train.drop(columns=['target_class'])\n",
    "df_knn_features = df_knn_features.drop(columns=['suspect_age'])\n",
    "\n",
    "# rearrange before uploading for AWS training job format\n",
    "df_knn_train = df_knn_train[['target_class', 'latitude', 'longitude', 'n_guns_involved', 'group_Democrat', 'ohe_drug', 'ohe_officer', 'ohe_gang',\n",
    "       'ohe_accident', 'ohe_murder', 'ohe_suicide', 'ohe_arrest', 'ohe_brandishing', 'ohe_felon', 'ohe_drive', 'ohe_home_invasion', 'ohe_stolen', 'ohe_misc', 'ohe_drugs', 'ohe_car_jacking',\n",
    "       'ohe_defensive', 'ohe_robbery', 'ohe_family', 'ohe_institution', 'ohe_child', 'ohe_mass', 'ohe_domestic', 'suspect_age_group_Teen', 'suspect_age_group_Young Adult', 'suspect_age_group_Mid-Adult',\n",
    "       'suspect_age_group_Adult', 'suspect_age_group_Senior', 'region_East South Central', 'region_Middle Atlantic', 'region_Mountain', 'region_New England', 'region_Pacific',\n",
    "       'region_South Atlantic', 'region_West North Central', 'region_West South Central']]\n",
    "\n",
    "#df_y_test = df_test['target_class']\n",
    "#df_test = df_test.drop(columns=['target_class'])\n",
    "df_knn_test = df_knn_test.drop(columns=['suspect_age'])\n",
    "df_knn_y_test = df_knn_test['target_class']\n",
    "df_knn_test = df_knn_test.drop(columns=['target_class'])\n",
    "\n",
    "with io.StringIO() as csv_buffer:\n",
    "    df_knn_train.to_csv(csv_buffer, index=False, header=False)\n",
    "\n",
    "    response = s3_client.put_object(\n",
    "        Bucket=BUCKET, Key=KEY, Body=csv_buffer.getvalue()\n",
    "    )"
   ]
  },
  {
   "cell_type": "code",
   "execution_count": 195,
   "id": "55e6400d-dd29-48cf-817c-adeba43d5522",
   "metadata": {
    "tags": []
   },
   "outputs": [
    {
     "name": "stdout",
     "output_type": "stream",
     "text": [
      "(100150, 39)\n",
      "(100150,)\n",
      "        target_class  latitude  longitude  n_guns_involved  group_Democrat  \\\n",
      "191170             0   42.8383   -77.6414              1.0               0   \n",
      "202303             0   24.5559   -81.7916              1.0               0   \n",
      "160917             0   28.5257   -81.4204              1.0               1   \n",
      "37589              0   29.2360   -81.0531              1.0               0   \n",
      "191073             1   31.0881   -97.7398              1.0               0   \n",
      "\n",
      "        ohe_drug  ohe_officer  ohe_gang  ohe_accident  ohe_murder  ...  \\\n",
      "191170         0            0         0             0           0  ...   \n",
      "202303         0            0         0             0           0  ...   \n",
      "160917         0            0         0             0           0  ...   \n",
      "37589          0            0         0             0           0  ...   \n",
      "191073         0            0         0             0           0  ...   \n",
      "\n",
      "        suspect_age_group_Adult  suspect_age_group_Senior  \\\n",
      "191170                        0                         0   \n",
      "202303                        0                         0   \n",
      "160917                        0                         0   \n",
      "37589                         0                         0   \n",
      "191073                        0                         1   \n",
      "\n",
      "        region_East South Central  region_Middle Atlantic  region_Mountain  \\\n",
      "191170                          0                       1                0   \n",
      "202303                          0                       0                0   \n",
      "160917                          0                       0                0   \n",
      "37589                           0                       0                0   \n",
      "191073                          0                       0                0   \n",
      "\n",
      "        region_New England  region_Pacific  region_South Atlantic  \\\n",
      "191170                   0               0                      0   \n",
      "202303                   0               0                      1   \n",
      "160917                   0               0                      1   \n",
      "37589                    0               0                      1   \n",
      "191073                   0               0                      0   \n",
      "\n",
      "        region_West North Central  region_West South Central  \n",
      "191170                          0                          0  \n",
      "202303                          0                          0  \n",
      "160917                          0                          0  \n",
      "37589                           0                          0  \n",
      "191073                          0                          1  \n",
      "\n",
      "[5 rows x 40 columns]\n",
      "Index(['target_class', 'latitude', 'longitude', 'n_guns_involved',\n",
      "       'group_Democrat', 'ohe_drug', 'ohe_officer', 'ohe_gang', 'ohe_accident',\n",
      "       'ohe_murder', 'ohe_suicide', 'ohe_arrest', 'ohe_brandishing',\n",
      "       'ohe_felon', 'ohe_drive', 'ohe_home_invasion', 'ohe_stolen', 'ohe_misc',\n",
      "       'ohe_drugs', 'ohe_car_jacking', 'ohe_defensive', 'ohe_robbery',\n",
      "       'ohe_family', 'ohe_institution', 'ohe_child', 'ohe_mass',\n",
      "       'ohe_domestic', 'suspect_age_group_Teen',\n",
      "       'suspect_age_group_Young Adult', 'suspect_age_group_Mid-Adult',\n",
      "       'suspect_age_group_Adult', 'suspect_age_group_Senior',\n",
      "       'region_East South Central', 'region_Middle Atlantic',\n",
      "       'region_Mountain', 'region_New England', 'region_Pacific',\n",
      "       'region_South Atlantic', 'region_West North Central',\n",
      "       'region_West South Central'],\n",
      "      dtype='object')\n"
     ]
    }
   ],
   "source": [
    "print(df_knn_features.shape)\n",
    "print(df_knn_y_train.shape)\n",
    "#print(df_features.columns)\n",
    "print(df_knn_train.head(5))\n",
    "#df_knn_features = df_knn_features.drop(columns=['suspect_age'])\n",
    "print(df_knn_train.columns)"
   ]
  },
  {
   "cell_type": "code",
   "execution_count": 148,
   "id": "2c7877bd-4237-4071-be19-c527664cbdb5",
   "metadata": {
    "tags": []
   },
   "outputs": [
    {
     "data": {
      "text/plain": [
       "GridSearchCV(cv=None, error_score=nan,\n",
       "             estimator=MLPClassifier(activation='relu', alpha=0.0001,\n",
       "                                     batch_size='auto', beta_1=0.9,\n",
       "                                     beta_2=0.999, early_stopping=False,\n",
       "                                     epsilon=1e-08, hidden_layer_sizes=(100,),\n",
       "                                     learning_rate='constant',\n",
       "                                     learning_rate_init=0.001, max_fun=15000,\n",
       "                                     max_iter=200, momentum=0.9,\n",
       "                                     n_iter_no_change=10,\n",
       "                                     nesterovs_momentum=True, power_t=0.5,\n",
       "                                     random_state=None, shuffle=True,\n",
       "                                     solver='adam', tol=0.0001,\n",
       "                                     validation_fraction=0.1, verbose=False,\n",
       "                                     warm_start=False),\n",
       "             iid='deprecated', n_jobs=None,\n",
       "             param_grid={'activation': ('relu', 'tanh'),\n",
       "                         'hidden_layer_sizes': [2, 4], 'max_iter': [200, 400],\n",
       "                         'solver': ('adam', 'sgd')},\n",
       "             pre_dispatch='2*n_jobs', refit=True, return_train_score=False,\n",
       "             scoring=None, verbose=0)"
      ]
     },
     "execution_count": 148,
     "metadata": {},
     "output_type": "execute_result"
    }
   ],
   "source": [
    "parameters = {'solver':('adam', 'sgd'), 'activation':('relu', 'tanh'), \n",
    "              'hidden_layer_sizes':[2, 4], 'max_iter': [200, 400]} \n",
    "nn = GridSearchCV(MLPClassifier(), parameters) #finetune t find best parameters\n",
    "nn.fit(df_knn_features, df_knn_y_train)"
   ]
  },
  {
   "cell_type": "code",
   "execution_count": 61,
   "id": "97939ca7-59b2-48b4-89b4-e499c0fab1a9",
   "metadata": {
    "tags": []
   },
   "outputs": [
    {
     "data": {
      "text/plain": [
       "{'activation': 'relu',\n",
       " 'hidden_layer_sizes': 4,\n",
       " 'max_iter': 200,\n",
       " 'solver': 'adam'}"
      ]
     },
     "execution_count": 61,
     "metadata": {},
     "output_type": "execute_result"
    }
   ],
   "source": [
    "nn.best_params_ #best parameters"
   ]
  },
  {
   "cell_type": "code",
   "execution_count": 62,
   "id": "301a119d-9bde-40ba-8fb8-0342103e9e12",
   "metadata": {
    "tags": []
   },
   "outputs": [
    {
     "data": {
      "text/plain": [
       "0.7942386420369446"
      ]
     },
     "execution_count": 62,
     "metadata": {},
     "output_type": "execute_result"
    }
   ],
   "source": [
    "nn.best_score_ #best score"
   ]
  },
  {
   "cell_type": "code",
   "execution_count": 199,
   "id": "85236331-d8f4-48cb-90b1-d9441979f7ba",
   "metadata": {
    "tags": []
   },
   "outputs": [
    {
     "name": "stdout",
     "output_type": "stream",
     "text": [
      "[[2191  607]\n",
      " [ 528 2238]]\n"
     ]
    }
   ],
   "source": [
    "y = df_knn_validation['target_class']\n",
    "X = df_knn_validation.drop(columns=['target_class', 'suspect_age'])\n",
    "\n",
    "y_pred = nn.best_estimator_.predict(X)\n",
    "print(confusion_matrix(y, y_pred))"
   ]
  },
  {
   "cell_type": "code",
   "execution_count": 202,
   "id": "85c8d4a5-20aa-430f-bb9a-857e6ccf85dd",
   "metadata": {
    "tags": []
   },
   "outputs": [
    {
     "data": {
      "text/plain": [
       "0.7960100647016535"
      ]
     },
     "execution_count": 202,
     "metadata": {},
     "output_type": "execute_result"
    }
   ],
   "source": [
    "accuracy_score(y, y_pred)"
   ]
  },
  {
   "cell_type": "markdown",
   "id": "5d20f247-78b4-4730-967e-7855e9e8f85f",
   "metadata": {},
   "source": [
    "# KNN"
   ]
  },
  {
   "cell_type": "code",
   "execution_count": 79,
   "id": "48f8b87a-a6ce-4401-9f4f-eea8ed2a369d",
   "metadata": {
    "tags": []
   },
   "outputs": [
    {
     "data": {
      "text/plain": [
       "KNeighborsClassifier(algorithm='auto', leaf_size=30, metric='minkowski',\n",
       "                     metric_params=None, n_jobs=None, n_neighbors=7, p=2,\n",
       "                     weights='uniform')"
      ]
     },
     "execution_count": 79,
     "metadata": {},
     "output_type": "execute_result"
    }
   ],
   "source": [
    "knn = KNeighborsClassifier(n_neighbors=7)\n",
    "knn.fit(df_knn_features, df_knn_y_train)"
   ]
  },
  {
   "cell_type": "code",
   "execution_count": 80,
   "id": "cf0a8599-42c9-448e-a48d-c948088269d6",
   "metadata": {
    "tags": []
   },
   "outputs": [
    {
     "name": "stdout",
     "output_type": "stream",
     "text": [
      "[1 1 1 ... 0 1 0]\n",
      "0.7735442127965493\n"
     ]
    }
   ],
   "source": [
    "print(knn.predict(df_knn_test))\n",
    "print(knn.score(df_knn_test, df_knn_y_test))"
   ]
  },
  {
   "cell_type": "code",
   "execution_count": null,
   "id": "aaf20480-d46c-46ad-973c-e7dbf15ed117",
   "metadata": {},
   "outputs": [],
   "source": [
    "y = df_knn_validation['target_class']\n",
    "X = df_knn_validation.drop(columns=['target_class', 'suspect_age'])\n",
    "\n",
    "y_pred = nn.best_estimator_.predict(X)\n",
    "print(confusion_matrix(y, y_pred))"
   ]
  },
  {
   "cell_type": "code",
   "execution_count": null,
   "id": "9f3f6f09-f3ee-4fa5-b2ca-0cbd7c74bcf6",
   "metadata": {},
   "outputs": [],
   "source": [
    "accuracy_score(y, y_pred)"
   ]
  },
  {
   "cell_type": "code",
   "execution_count": null,
   "id": "ae05b4a4-e557-4e37-a972-e6b33a625af5",
   "metadata": {},
   "outputs": [],
   "source": []
  },
  {
   "cell_type": "code",
   "execution_count": null,
   "id": "d541bcea-8762-4506-9b1c-e23dd17cf765",
   "metadata": {},
   "outputs": [],
   "source": []
  }
 ],
 "metadata": {
  "availableInstances": [
   {
    "_defaultOrder": 0,
    "_isFastLaunch": true,
    "category": "General purpose",
    "gpuNum": 0,
    "hideHardwareSpecs": false,
    "memoryGiB": 4,
    "name": "ml.t3.medium",
    "vcpuNum": 2
   },
   {
    "_defaultOrder": 1,
    "_isFastLaunch": false,
    "category": "General purpose",
    "gpuNum": 0,
    "hideHardwareSpecs": false,
    "memoryGiB": 8,
    "name": "ml.t3.large",
    "vcpuNum": 2
   },
   {
    "_defaultOrder": 2,
    "_isFastLaunch": false,
    "category": "General purpose",
    "gpuNum": 0,
    "hideHardwareSpecs": false,
    "memoryGiB": 16,
    "name": "ml.t3.xlarge",
    "vcpuNum": 4
   },
   {
    "_defaultOrder": 3,
    "_isFastLaunch": false,
    "category": "General purpose",
    "gpuNum": 0,
    "hideHardwareSpecs": false,
    "memoryGiB": 32,
    "name": "ml.t3.2xlarge",
    "vcpuNum": 8
   },
   {
    "_defaultOrder": 4,
    "_isFastLaunch": true,
    "category": "General purpose",
    "gpuNum": 0,
    "hideHardwareSpecs": false,
    "memoryGiB": 8,
    "name": "ml.m5.large",
    "vcpuNum": 2
   },
   {
    "_defaultOrder": 5,
    "_isFastLaunch": false,
    "category": "General purpose",
    "gpuNum": 0,
    "hideHardwareSpecs": false,
    "memoryGiB": 16,
    "name": "ml.m5.xlarge",
    "vcpuNum": 4
   },
   {
    "_defaultOrder": 6,
    "_isFastLaunch": false,
    "category": "General purpose",
    "gpuNum": 0,
    "hideHardwareSpecs": false,
    "memoryGiB": 32,
    "name": "ml.m5.2xlarge",
    "vcpuNum": 8
   },
   {
    "_defaultOrder": 7,
    "_isFastLaunch": false,
    "category": "General purpose",
    "gpuNum": 0,
    "hideHardwareSpecs": false,
    "memoryGiB": 64,
    "name": "ml.m5.4xlarge",
    "vcpuNum": 16
   },
   {
    "_defaultOrder": 8,
    "_isFastLaunch": false,
    "category": "General purpose",
    "gpuNum": 0,
    "hideHardwareSpecs": false,
    "memoryGiB": 128,
    "name": "ml.m5.8xlarge",
    "vcpuNum": 32
   },
   {
    "_defaultOrder": 9,
    "_isFastLaunch": false,
    "category": "General purpose",
    "gpuNum": 0,
    "hideHardwareSpecs": false,
    "memoryGiB": 192,
    "name": "ml.m5.12xlarge",
    "vcpuNum": 48
   },
   {
    "_defaultOrder": 10,
    "_isFastLaunch": false,
    "category": "General purpose",
    "gpuNum": 0,
    "hideHardwareSpecs": false,
    "memoryGiB": 256,
    "name": "ml.m5.16xlarge",
    "vcpuNum": 64
   },
   {
    "_defaultOrder": 11,
    "_isFastLaunch": false,
    "category": "General purpose",
    "gpuNum": 0,
    "hideHardwareSpecs": false,
    "memoryGiB": 384,
    "name": "ml.m5.24xlarge",
    "vcpuNum": 96
   },
   {
    "_defaultOrder": 12,
    "_isFastLaunch": false,
    "category": "General purpose",
    "gpuNum": 0,
    "hideHardwareSpecs": false,
    "memoryGiB": 8,
    "name": "ml.m5d.large",
    "vcpuNum": 2
   },
   {
    "_defaultOrder": 13,
    "_isFastLaunch": false,
    "category": "General purpose",
    "gpuNum": 0,
    "hideHardwareSpecs": false,
    "memoryGiB": 16,
    "name": "ml.m5d.xlarge",
    "vcpuNum": 4
   },
   {
    "_defaultOrder": 14,
    "_isFastLaunch": false,
    "category": "General purpose",
    "gpuNum": 0,
    "hideHardwareSpecs": false,
    "memoryGiB": 32,
    "name": "ml.m5d.2xlarge",
    "vcpuNum": 8
   },
   {
    "_defaultOrder": 15,
    "_isFastLaunch": false,
    "category": "General purpose",
    "gpuNum": 0,
    "hideHardwareSpecs": false,
    "memoryGiB": 64,
    "name": "ml.m5d.4xlarge",
    "vcpuNum": 16
   },
   {
    "_defaultOrder": 16,
    "_isFastLaunch": false,
    "category": "General purpose",
    "gpuNum": 0,
    "hideHardwareSpecs": false,
    "memoryGiB": 128,
    "name": "ml.m5d.8xlarge",
    "vcpuNum": 32
   },
   {
    "_defaultOrder": 17,
    "_isFastLaunch": false,
    "category": "General purpose",
    "gpuNum": 0,
    "hideHardwareSpecs": false,
    "memoryGiB": 192,
    "name": "ml.m5d.12xlarge",
    "vcpuNum": 48
   },
   {
    "_defaultOrder": 18,
    "_isFastLaunch": false,
    "category": "General purpose",
    "gpuNum": 0,
    "hideHardwareSpecs": false,
    "memoryGiB": 256,
    "name": "ml.m5d.16xlarge",
    "vcpuNum": 64
   },
   {
    "_defaultOrder": 19,
    "_isFastLaunch": false,
    "category": "General purpose",
    "gpuNum": 0,
    "hideHardwareSpecs": false,
    "memoryGiB": 384,
    "name": "ml.m5d.24xlarge",
    "vcpuNum": 96
   },
   {
    "_defaultOrder": 20,
    "_isFastLaunch": false,
    "category": "General purpose",
    "gpuNum": 0,
    "hideHardwareSpecs": true,
    "memoryGiB": 0,
    "name": "ml.geospatial.interactive",
    "supportedImageNames": [
     "sagemaker-geospatial-v1-0"
    ],
    "vcpuNum": 0
   },
   {
    "_defaultOrder": 21,
    "_isFastLaunch": true,
    "category": "Compute optimized",
    "gpuNum": 0,
    "hideHardwareSpecs": false,
    "memoryGiB": 4,
    "name": "ml.c5.large",
    "vcpuNum": 2
   },
   {
    "_defaultOrder": 22,
    "_isFastLaunch": false,
    "category": "Compute optimized",
    "gpuNum": 0,
    "hideHardwareSpecs": false,
    "memoryGiB": 8,
    "name": "ml.c5.xlarge",
    "vcpuNum": 4
   },
   {
    "_defaultOrder": 23,
    "_isFastLaunch": false,
    "category": "Compute optimized",
    "gpuNum": 0,
    "hideHardwareSpecs": false,
    "memoryGiB": 16,
    "name": "ml.c5.2xlarge",
    "vcpuNum": 8
   },
   {
    "_defaultOrder": 24,
    "_isFastLaunch": false,
    "category": "Compute optimized",
    "gpuNum": 0,
    "hideHardwareSpecs": false,
    "memoryGiB": 32,
    "name": "ml.c5.4xlarge",
    "vcpuNum": 16
   },
   {
    "_defaultOrder": 25,
    "_isFastLaunch": false,
    "category": "Compute optimized",
    "gpuNum": 0,
    "hideHardwareSpecs": false,
    "memoryGiB": 72,
    "name": "ml.c5.9xlarge",
    "vcpuNum": 36
   },
   {
    "_defaultOrder": 26,
    "_isFastLaunch": false,
    "category": "Compute optimized",
    "gpuNum": 0,
    "hideHardwareSpecs": false,
    "memoryGiB": 96,
    "name": "ml.c5.12xlarge",
    "vcpuNum": 48
   },
   {
    "_defaultOrder": 27,
    "_isFastLaunch": false,
    "category": "Compute optimized",
    "gpuNum": 0,
    "hideHardwareSpecs": false,
    "memoryGiB": 144,
    "name": "ml.c5.18xlarge",
    "vcpuNum": 72
   },
   {
    "_defaultOrder": 28,
    "_isFastLaunch": false,
    "category": "Compute optimized",
    "gpuNum": 0,
    "hideHardwareSpecs": false,
    "memoryGiB": 192,
    "name": "ml.c5.24xlarge",
    "vcpuNum": 96
   },
   {
    "_defaultOrder": 29,
    "_isFastLaunch": true,
    "category": "Accelerated computing",
    "gpuNum": 1,
    "hideHardwareSpecs": false,
    "memoryGiB": 16,
    "name": "ml.g4dn.xlarge",
    "vcpuNum": 4
   },
   {
    "_defaultOrder": 30,
    "_isFastLaunch": false,
    "category": "Accelerated computing",
    "gpuNum": 1,
    "hideHardwareSpecs": false,
    "memoryGiB": 32,
    "name": "ml.g4dn.2xlarge",
    "vcpuNum": 8
   },
   {
    "_defaultOrder": 31,
    "_isFastLaunch": false,
    "category": "Accelerated computing",
    "gpuNum": 1,
    "hideHardwareSpecs": false,
    "memoryGiB": 64,
    "name": "ml.g4dn.4xlarge",
    "vcpuNum": 16
   },
   {
    "_defaultOrder": 32,
    "_isFastLaunch": false,
    "category": "Accelerated computing",
    "gpuNum": 1,
    "hideHardwareSpecs": false,
    "memoryGiB": 128,
    "name": "ml.g4dn.8xlarge",
    "vcpuNum": 32
   },
   {
    "_defaultOrder": 33,
    "_isFastLaunch": false,
    "category": "Accelerated computing",
    "gpuNum": 4,
    "hideHardwareSpecs": false,
    "memoryGiB": 192,
    "name": "ml.g4dn.12xlarge",
    "vcpuNum": 48
   },
   {
    "_defaultOrder": 34,
    "_isFastLaunch": false,
    "category": "Accelerated computing",
    "gpuNum": 1,
    "hideHardwareSpecs": false,
    "memoryGiB": 256,
    "name": "ml.g4dn.16xlarge",
    "vcpuNum": 64
   },
   {
    "_defaultOrder": 35,
    "_isFastLaunch": false,
    "category": "Accelerated computing",
    "gpuNum": 1,
    "hideHardwareSpecs": false,
    "memoryGiB": 61,
    "name": "ml.p3.2xlarge",
    "vcpuNum": 8
   },
   {
    "_defaultOrder": 36,
    "_isFastLaunch": false,
    "category": "Accelerated computing",
    "gpuNum": 4,
    "hideHardwareSpecs": false,
    "memoryGiB": 244,
    "name": "ml.p3.8xlarge",
    "vcpuNum": 32
   },
   {
    "_defaultOrder": 37,
    "_isFastLaunch": false,
    "category": "Accelerated computing",
    "gpuNum": 8,
    "hideHardwareSpecs": false,
    "memoryGiB": 488,
    "name": "ml.p3.16xlarge",
    "vcpuNum": 64
   },
   {
    "_defaultOrder": 38,
    "_isFastLaunch": false,
    "category": "Accelerated computing",
    "gpuNum": 8,
    "hideHardwareSpecs": false,
    "memoryGiB": 768,
    "name": "ml.p3dn.24xlarge",
    "vcpuNum": 96
   },
   {
    "_defaultOrder": 39,
    "_isFastLaunch": false,
    "category": "Memory Optimized",
    "gpuNum": 0,
    "hideHardwareSpecs": false,
    "memoryGiB": 16,
    "name": "ml.r5.large",
    "vcpuNum": 2
   },
   {
    "_defaultOrder": 40,
    "_isFastLaunch": false,
    "category": "Memory Optimized",
    "gpuNum": 0,
    "hideHardwareSpecs": false,
    "memoryGiB": 32,
    "name": "ml.r5.xlarge",
    "vcpuNum": 4
   },
   {
    "_defaultOrder": 41,
    "_isFastLaunch": false,
    "category": "Memory Optimized",
    "gpuNum": 0,
    "hideHardwareSpecs": false,
    "memoryGiB": 64,
    "name": "ml.r5.2xlarge",
    "vcpuNum": 8
   },
   {
    "_defaultOrder": 42,
    "_isFastLaunch": false,
    "category": "Memory Optimized",
    "gpuNum": 0,
    "hideHardwareSpecs": false,
    "memoryGiB": 128,
    "name": "ml.r5.4xlarge",
    "vcpuNum": 16
   },
   {
    "_defaultOrder": 43,
    "_isFastLaunch": false,
    "category": "Memory Optimized",
    "gpuNum": 0,
    "hideHardwareSpecs": false,
    "memoryGiB": 256,
    "name": "ml.r5.8xlarge",
    "vcpuNum": 32
   },
   {
    "_defaultOrder": 44,
    "_isFastLaunch": false,
    "category": "Memory Optimized",
    "gpuNum": 0,
    "hideHardwareSpecs": false,
    "memoryGiB": 384,
    "name": "ml.r5.12xlarge",
    "vcpuNum": 48
   },
   {
    "_defaultOrder": 45,
    "_isFastLaunch": false,
    "category": "Memory Optimized",
    "gpuNum": 0,
    "hideHardwareSpecs": false,
    "memoryGiB": 512,
    "name": "ml.r5.16xlarge",
    "vcpuNum": 64
   },
   {
    "_defaultOrder": 46,
    "_isFastLaunch": false,
    "category": "Memory Optimized",
    "gpuNum": 0,
    "hideHardwareSpecs": false,
    "memoryGiB": 768,
    "name": "ml.r5.24xlarge",
    "vcpuNum": 96
   },
   {
    "_defaultOrder": 47,
    "_isFastLaunch": false,
    "category": "Accelerated computing",
    "gpuNum": 1,
    "hideHardwareSpecs": false,
    "memoryGiB": 16,
    "name": "ml.g5.xlarge",
    "vcpuNum": 4
   },
   {
    "_defaultOrder": 48,
    "_isFastLaunch": false,
    "category": "Accelerated computing",
    "gpuNum": 1,
    "hideHardwareSpecs": false,
    "memoryGiB": 32,
    "name": "ml.g5.2xlarge",
    "vcpuNum": 8
   },
   {
    "_defaultOrder": 49,
    "_isFastLaunch": false,
    "category": "Accelerated computing",
    "gpuNum": 1,
    "hideHardwareSpecs": false,
    "memoryGiB": 64,
    "name": "ml.g5.4xlarge",
    "vcpuNum": 16
   },
   {
    "_defaultOrder": 50,
    "_isFastLaunch": false,
    "category": "Accelerated computing",
    "gpuNum": 1,
    "hideHardwareSpecs": false,
    "memoryGiB": 128,
    "name": "ml.g5.8xlarge",
    "vcpuNum": 32
   },
   {
    "_defaultOrder": 51,
    "_isFastLaunch": false,
    "category": "Accelerated computing",
    "gpuNum": 1,
    "hideHardwareSpecs": false,
    "memoryGiB": 256,
    "name": "ml.g5.16xlarge",
    "vcpuNum": 64
   },
   {
    "_defaultOrder": 52,
    "_isFastLaunch": false,
    "category": "Accelerated computing",
    "gpuNum": 4,
    "hideHardwareSpecs": false,
    "memoryGiB": 192,
    "name": "ml.g5.12xlarge",
    "vcpuNum": 48
   },
   {
    "_defaultOrder": 53,
    "_isFastLaunch": false,
    "category": "Accelerated computing",
    "gpuNum": 4,
    "hideHardwareSpecs": false,
    "memoryGiB": 384,
    "name": "ml.g5.24xlarge",
    "vcpuNum": 96
   },
   {
    "_defaultOrder": 54,
    "_isFastLaunch": false,
    "category": "Accelerated computing",
    "gpuNum": 8,
    "hideHardwareSpecs": false,
    "memoryGiB": 768,
    "name": "ml.g5.48xlarge",
    "vcpuNum": 192
   }
  ],
  "instance_type": "ml.t3.medium",
  "kernelspec": {
   "display_name": "Python 3 (Data Science)",
   "language": "python",
   "name": "python3__SAGEMAKER_INTERNAL__arn:aws:sagemaker:us-east-1:081325390199:image/datascience-1.0"
  },
  "language_info": {
   "codemirror_mode": {
    "name": "ipython",
    "version": 3
   },
   "file_extension": ".py",
   "mimetype": "text/x-python",
   "name": "python",
   "nbconvert_exporter": "python",
   "pygments_lexer": "ipython3",
   "version": "3.7.10"
  }
 },
 "nbformat": 4,
 "nbformat_minor": 5
}
